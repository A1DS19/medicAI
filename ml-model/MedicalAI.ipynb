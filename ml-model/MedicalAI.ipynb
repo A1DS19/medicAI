{
 "cells": [
  {
   "cell_type": "code",
   "execution_count": null,
   "id": "687f5bf6-c1e7-4632-80f5-3b4c63b965a5",
   "metadata": {},
   "outputs": [],
   "source": [
    "# train in sagemaker\n",
    "# create .lst files\n",
    "# create s3 bucket to hold images and lst files"
   ]
  },
  {
   "cell_type": "code",
   "execution_count": null,
   "id": "762442e3-6f9b-4998-bee7-99e01c763055",
   "metadata": {},
   "outputs": [],
   "source": [
    "!pip install kaggle"
   ]
  },
  {
   "cell_type": "code",
   "execution_count": null,
   "id": "cf48bbd9-6b50-4ba4-b9c6-532371b32ac3",
   "metadata": {
    "tags": []
   },
   "outputs": [],
   "source": [
    "import json\n",
    "import zipfile\n",
    "\n",
    "!mkdir ~/.kaggle\n",
    "!touch ~/.kaggle/kaggle.json\n",
    "with open('/root/.kaggle/kaggle.json', 'w') as file:\n",
    "    json.dump(api_token, file)\n",
    "!chmod 600 ~/.kaggle/kaggle.json\n",
    "!kaggle datasets download -d paultimothymooney/chest-xray-pneumonia --force"
   ]
  },
  {
   "cell_type": "code",
   "execution_count": null,
   "id": "4a6874bf-3ae6-4b02-991d-94e2477e008a",
   "metadata": {},
   "outputs": [],
   "source": [
    "with zipfile.ZipFile('./chest-xray-pneumonia.zip', 'r') as zip_ref:\n",
    "    zip_ref.extractall('./data')"
   ]
  },
  {
   "cell_type": "code",
   "execution_count": null,
   "id": "51f3cb65-6885-4f24-8ab6-1f310ebe1c67",
   "metadata": {},
   "outputs": [],
   "source": [
    "import glob\n",
    "import random\n",
    "import matplotlib.pyplot as plt\n",
    "\n",
    "def get_random_image(dir, condition):\n",
    "    placeholder = ''\n",
    "    \n",
    "    if condition == 'p':\n",
    "        placeholder = 'PNEUMONIA'\n",
    "    elif condition == 'n':\n",
    "        placeholder = 'NORMAL'\n",
    "    else:\n",
    "        raise Exception('Sorry invalid condition')\n",
    "    \n",
    "    folder = f'./data/chest_xray/{dir}/{placeholder}/*.jpeg'\n",
    "    img_paths = glob.glob(folder)\n",
    "    max_len = len(img_paths)\n",
    "    random_number = random.randint(0, max_len)\n",
    "    \n",
    "    for index, item in enumerate(img_paths, start=1):\n",
    "        if index == random_number:\n",
    "            print(index, item)\n",
    "            image = plt.imread(item)\n",
    "            ready_image = plt.imshow(image)\n",
    "            plt.show()\n",
    "            return ready_image"
   ]
  },
  {
   "cell_type": "code",
   "execution_count": null,
   "id": "99628e2f-75bc-4310-b372-bb8c1ce2c4a2",
   "metadata": {
    "tags": []
   },
   "outputs": [],
   "source": [
    "get_random_image('train', 'p')"
   ]
  },
  {
   "cell_type": "code",
   "execution_count": null,
   "id": "caaaf3af-edb9-42f3-830f-fb3a79d7a57c",
   "metadata": {},
   "outputs": [],
   "source": [
    "get_random_image('train', 'n')"
   ]
  },
  {
   "cell_type": "code",
   "execution_count": null,
   "id": "c940c567-53dc-4ff2-8011-da6fdfceb166",
   "metadata": {},
   "outputs": [],
   "source": [
    "from PIL import Image\n",
    "\n",
    "image = Image.open('data/chest_xray/train/NORMAL/NORMAL2-IM-1423-0001.jpeg')\n",
    "print(image.format)\n",
    "print(image.size)\n",
    "print(image.mode)"
   ]
  },
  {
   "cell_type": "code",
   "execution_count": null,
   "id": "eea9f7a7-7a81-46cf-bf41-3b452727d8f0",
   "metadata": {},
   "outputs": [],
   "source": [
    "folder = './data/chest_xray/train/*/*.jpeg'\n",
    "\n",
    "counterPneu = 0\n",
    "counterNormal = 0\n",
    "\n",
    "img_paths = glob.glob(folder)\n",
    "\n",
    "for i in img_paths:\n",
    "    if 'person' in i:\n",
    "        full_size_image = Image.open(i)\n",
    "        img = full_size_image.resize((224, 224))\n",
    "        plt.imsave(fname='./data/chest_xray/train' + '/train_pneumonia' + str(counterPneu) + '.jpeg', arr=img, format='jpeg', cmap='Greys')\n",
    "        counterPneu += 1\n",
    "    else:\n",
    "        full_size_image = Image.open(i)\n",
    "        img = full_size_image.resize((224, 224))\n",
    "        plt.imsave(fname='./data/chest_xray/train' + '/train_normal' + str(counterNormal) + '.jpeg', arr=img, format='jpeg', cmap='Greys')\n",
    "        counterNormal += 1\n",
    "        "
   ]
  },
  {
   "cell_type": "code",
   "execution_count": null,
   "id": "8df0f24c-550d-486f-b8ca-3011ee90157e",
   "metadata": {},
   "outputs": [],
   "source": [
    "folder = './data/chest_xray/test/*/*.jpeg'\n",
    "\n",
    "counterPneu = 0\n",
    "counterNormal = 0\n",
    "\n",
    "img_paths = glob.glob(folder)\n",
    "\n",
    "for i in img_paths:\n",
    "    if 'person' in i:\n",
    "        full_size_image = Image.open(i)\n",
    "        img = full_size_image.resize((224, 224))\n",
    "        plt.imsave(fname='./data/chest_xray/test' + '/test_pneumonia' + str(counterPneu) + '.jpeg', arr=img, format='jpeg', cmap='Greys')\n",
    "        counterPneu += 1\n",
    "    else:\n",
    "        full_size_image = Image.open(i)\n",
    "        img = full_size_image.resize((224, 224))\n",
    "        plt.imsave(fname='./data/chest_xray/test' + '/test_normal' + str(counterNormal) + '.jpeg', arr=img, format='jpeg', cmap='Greys')\n",
    "        counterNormal += 1"
   ]
  },
  {
   "cell_type": "code",
   "execution_count": null,
   "id": "4d0129e1-197c-4730-8b78-297868e80cfe",
   "metadata": {},
   "outputs": [],
   "source": [
    "folder = './data/chest_xray/val/*/*.jpeg'\n",
    "\n",
    "counterPneu = 0\n",
    "counterNormal = 0\n",
    "\n",
    "img_paths = glob.glob(folder)\n",
    "\n",
    "for i in img_paths:\n",
    "    if 'person' in i:\n",
    "        full_size_image = Image.open(i)\n",
    "        img = full_size_image.resize((224, 224))\n",
    "        plt.imsave(fname='./data/chest_xray/val' + '/val_pneumonia' + str(counterPneu) + '.jpeg', arr=img, format='jpeg', cmap='Greys')\n",
    "        counterPneu += 1\n",
    "    else:\n",
    "        full_size_image = Image.open(i)\n",
    "        img = full_size_image.resize((224, 224))\n",
    "        plt.imsave(fname='./data/chest_xray/val' + '/val_normal' + str(counterNormal) + '.jpeg', arr=img, format='jpeg', cmap='Greys')\n",
    "        counterNormal += 1"
   ]
  },
  {
   "cell_type": "code",
   "execution_count": null,
   "id": "b2e63825-3ac4-45c7-b254-5e3137242193",
   "metadata": {},
   "outputs": [],
   "source": [
    "import pandas as pd\n",
    "\n",
    "folder = './data/chest_xray/*/*.jpeg'\n",
    "\n",
    "category = []\n",
    "condition_of_lung = []\n",
    "filenames = []\n",
    "\n",
    "all_files = glob.glob(folder)\n",
    "\n",
    "for filename in all_files:\n",
    "    if 'train' in filename:\n",
    "        if 'pneumonia' in filename:\n",
    "            category.append('train')\n",
    "            filenames.append(filename)\n",
    "            condition_of_lung.append('pneumonia')\n",
    "        elif 'normal' in filename:\n",
    "            category.append('train')\n",
    "            filenames.append(filename)\n",
    "            condition_of_lung.append('normal')\n",
    "    \n",
    "    if 'test' in filename:\n",
    "        if 'pneumonia' in filename:\n",
    "            category.append('test')\n",
    "            filenames.append(filename)\n",
    "            condition_of_lung.append('pneumonia')\n",
    "        elif 'normal' in filename:\n",
    "            category.append('test')\n",
    "            filenames.append(filename)\n",
    "            condition_of_lung.append('normal')\n",
    "            \n",
    "    if 'val' in filename:\n",
    "        if 'pneumonia' in filename:\n",
    "            category.append('val')\n",
    "            filenames.append(filename)\n",
    "            condition_of_lung.append('pneumonia')\n",
    "        elif 'normal' in filename:\n",
    "            category.append('val')\n",
    "            filenames.append(filename)\n",
    "            condition_of_lung.append('normal')\n",
    "            \n",
    "all_data_df = pd.DataFrame({\"dataset type\": category, \"x_ray result\": condition_of_lung, \"filename\": filenames})\n",
    "print(all_data_df.head())"
   ]
  },
  {
   "cell_type": "code",
   "execution_count": null,
   "id": "affbf356-6f6d-4074-8052-8799dd063d97",
   "metadata": {
    "tags": []
   },
   "outputs": [],
   "source": [
    "import seaborn as sns\n",
    "\n",
    "g = sns.catplot(x='x_ray result', col='dataset type', kind='count', palette='ch:.55', data=all_data_df, legend=True)\n",
    "for i in range(0, 3):\n",
    "    ax = g.facet_axis(0, i)\n",
    "    for p in ax.patches:\n",
    "        ax.text(p.get_x() + 0.3, p.get_height() + 1.05, '{0:.0f}'.format(p.get_height()), color='black', rotation='horizontal', size='large')\n",
    "plt.show()"
   ]
  },
  {
   "cell_type": "markdown",
   "id": "6b2ac15e-627e-4e15-b4bf-688d6e1861f9",
   "metadata": {},
   "source": [
    "### Create LST files"
   ]
  },
  {
   "cell_type": "code",
   "execution_count": null,
   "id": "5227a2c1-00ff-47ee-a18d-4251b7f677b2",
   "metadata": {},
   "outputs": [],
   "source": [
    "import os\n",
    "\n",
    "train_folder = './data/chest_xray/train/*.jpeg'\n",
    "train_df = pd.DataFrame(columns=['labels', 's3_path'], dtype=object)\n",
    "train_imgs_path = glob.glob(train_folder)\n",
    "counter = 0\n",
    "class_arg = ''\n",
    "\n",
    "for i in train_imgs_path:\n",
    "    if 'pneumonia' in i:\n",
    "        class_arg = 1\n",
    "    else:\n",
    "        class_arg = 0\n",
    "    train_df.loc[counter] = [class_arg, os.path.basename(i)]\n",
    "    counter += 1\n",
    "\n",
    "print(train_df.head())\n",
    "plt.show()"
   ]
  },
  {
   "cell_type": "code",
   "execution_count": null,
   "id": "c1b431dd-d5e6-4baa-a681-f8d91f735b87",
   "metadata": {},
   "outputs": [],
   "source": [
    "import os\n",
    "\n",
    "test_folder = './data/chest_xray/test/*.jpeg'\n",
    "test_df = pd.DataFrame(columns=['labels', 's3_path'], dtype=object)\n",
    "test_imgs_path = glob.glob(test_folder)\n",
    "counter = 0\n",
    "class_arg = ''\n",
    "\n",
    "for i in test_imgs_path:\n",
    "    if 'pneumonia' in i:\n",
    "        class_arg = 1\n",
    "    else:\n",
    "        class_arg = 0\n",
    "    test_df.loc[counter] = [class_arg, os.path.basename(i)]\n",
    "    counter += 1\n",
    "\n",
    "print(test_df.head())\n",
    "plt.show()"
   ]
  },
  {
   "cell_type": "code",
   "execution_count": null,
   "id": "7baf0d8b-15bc-4182-b895-c8f9069ab3d4",
   "metadata": {},
   "outputs": [],
   "source": [
    "import os\n",
    "\n",
    "val_folder = './data/chest_xray/val/*.jpeg'\n",
    "val_df = pd.DataFrame(columns=['labels', 's3_path'], dtype=object)\n",
    "val_imgs_path = glob.glob(val_folder)\n",
    "counter = 0\n",
    "class_arg = ''\n",
    "\n",
    "for i in val_imgs_path:\n",
    "    if 'pneumonia' in i:\n",
    "        class_arg = 1\n",
    "    else:\n",
    "        class_arg = 0\n",
    "    val_df.loc[counter] = [class_arg, os.path.basename(i)]\n",
    "    counter += 1\n",
    "\n",
    "print(val_df.head())\n",
    "plt.show()"
   ]
  },
  {
   "cell_type": "code",
   "execution_count": null,
   "id": "91fd229c-2b56-4a23-beec-1563344d1ec6",
   "metadata": {},
   "outputs": [],
   "source": [
    "def save_to_lst(df, prefix):\n",
    "    return df[['labels', 's3_path']].to_csv(f\"{prefix}.lst\", sep='\\t', index=True, header=False)\n",
    "\n",
    "save_to_lst(train_df.copy(), 'train')\n",
    "save_to_lst(test_df.copy(), 'test')\n",
    "# save_to_lst(val_df.copy(), 'val')"
   ]
  },
  {
   "cell_type": "markdown",
   "id": "0ff5881c-7e0f-4996-90a1-3607a8247c86",
   "metadata": {},
   "source": [
    "### Upload data to S3 bucket"
   ]
  },
  {
   "cell_type": "code",
   "execution_count": 4,
   "id": "6700ae25-5e47-4d33-96b7-fe596d569b8c",
   "metadata": {},
   "outputs": [],
   "source": [
    "import os"
   ]
  },
  {
   "cell_type": "code",
   "execution_count": 5,
   "id": "b7096917-874e-498f-966c-ed3247a14a5a",
   "metadata": {},
   "outputs": [],
   "source": [
    "os.environ[\"DEFAULT_S3_BUCKET\"] = bucket"
   ]
  },
  {
   "cell_type": "code",
   "execution_count": null,
   "id": "72e5888d-01d6-4a01-b612-50ccbb14ac62",
   "metadata": {
    "tags": []
   },
   "outputs": [],
   "source": [
    "!aws s3 sync ./data/chest_xray/train s3://${DEFAULT_S3_BUCKET}/train/"
   ]
  },
  {
   "cell_type": "code",
   "execution_count": null,
   "id": "35dc3d95-aca1-497a-9187-2a543b300d60",
   "metadata": {
    "tags": []
   },
   "outputs": [],
   "source": [
    "!aws s3 sync ./data/chest_xray/test s3://${DEFAULT_S3_BUCKET}/test/"
   ]
  },
  {
   "cell_type": "code",
   "execution_count": null,
   "id": "735c9904-c191-48bd-af6c-b6dddbcd2637",
   "metadata": {},
   "outputs": [],
   "source": [
    "import boto3\n",
    "\n",
    "boto3.Session().resource('s3').Bucket(bucket).Object('train.lst').upload_file('./train.lst')\n",
    "boto3.Session().resource('s3').Bucket(bucket).Object('test.lst').upload_file('./test.lst')"
   ]
  },
  {
   "cell_type": "markdown",
   "id": "655d7019-8a0a-4950-bb17-1f6ba0a7c15e",
   "metadata": {},
   "source": [
    "### Train model"
   ]
  },
  {
   "cell_type": "code",
   "execution_count": 2,
   "id": "8123e7a4-635e-42ab-affe-c0db7d863eac",
   "metadata": {},
   "outputs": [],
   "source": [
    "import boto3"
   ]
  },
  {
   "cell_type": "code",
   "execution_count": 6,
   "id": "053c3d9a-fbc5-4a94-850e-34533374b8db",
   "metadata": {},
   "outputs": [
    {
     "name": "stdout",
     "output_type": "stream",
     "text": [
      "811284229777.dkr.ecr.us-east-1.amazonaws.com/image-classification:1\n"
     ]
    }
   ],
   "source": [
    "import sagemaker\n",
    "from sagemaker import image_uris\n",
    "import boto3\n",
    "from sagemaker import get_execution_role\n",
    "\n",
    "sess = sagemaker.Session()\n",
    "algorithm_image = image_uris.retrieve(\n",
    "    region=boto3.Session().region_name,\n",
    "    framework='image-classification'\n",
    ")\n",
    "print(algorithm_image)"
   ]
  },
  {
   "cell_type": "code",
   "execution_count": 7,
   "id": "a293b367-10e2-4995-bf33-612b39c6023f",
   "metadata": {},
   "outputs": [
    {
     "name": "stdout",
     "output_type": "stream",
     "text": [
      "arn:aws:iam::150407749717:role/service-role/AmazonSageMaker-ExecutionRole-20221004T215064\n"
     ]
    }
   ],
   "source": [
    "role = get_execution_role()\n",
    "print(role)"
   ]
  },
  {
   "cell_type": "code",
   "execution_count": 8,
   "id": "ec98606d-85ca-4db1-9e7e-0c3b6ad245b2",
   "metadata": {},
   "outputs": [
    {
     "name": "stdout",
     "output_type": "stream",
     "text": [
      "<sagemaker.estimator.Estimator object at 0x7fb1c0119b90>\n"
     ]
    }
   ],
   "source": [
    "img_classifier_model = sagemaker.estimator.Estimator(\n",
    "    algorithm_image,\n",
    "    role=role,\n",
    "    instance_count=1,\n",
    "    instance_type='ml.p2.xlarge',\n",
    "    volume_size=50,\n",
    "    input_mode='File',\n",
    "    max_run=432000,\n",
    "    output_path=s3_output_location,\n",
    "    sagemaker_session=sess\n",
    ")\n",
    "\n",
    "print(img_classifier_model)"
   ]
  },
  {
   "cell_type": "code",
   "execution_count": 10,
   "id": "2ce50e55-bb92-4cd0-be9c-3f0e27092ba2",
   "metadata": {},
   "outputs": [
    {
     "name": "stdout",
     "output_type": "stream",
     "text": [
      "0\n"
     ]
    }
   ],
   "source": [
    "import glob\n",
    "count = 0\n",
    "for filepath in glob.glob('./data/chest_xray/train/*.jpeg'):\n",
    "    count += 1\n",
    "\n",
    "print(count)"
   ]
  },
  {
   "cell_type": "code",
   "execution_count": 11,
   "id": "4d3fcdc7-28e3-4b08-b06f-4809de6f1ddd",
   "metadata": {},
   "outputs": [
    {
     "name": "stdout",
     "output_type": "stream",
     "text": [
      "{'image_shape': '3,224,224', 'num_classes': 2, 'augmentation_type': 'crop', 'use_pretrained_model': 1, 'num_training_samples': 0, 'epochs': 5, 'early_stopping': True, 'early_stopping_min_epochs': 8, 'early_stopping_patience': 5, 'early_stopping_tolerance': 0.0, 'lr_scheduler_factor': 0.1, 'lr_scheduler_step': '8,10,12'}\n"
     ]
    }
   ],
   "source": [
    "img_classifier_model.set_hyperparameters(\n",
    "    image_shape='3,224,224',\n",
    "    num_classes=2,\n",
    "    augmentation_type='crop',\n",
    "    use_pretrained_model=1,\n",
    "    num_training_samples=count,\n",
    "    epochs=5,\n",
    "    early_stopping=True,\n",
    "    early_stopping_min_epochs=8,\n",
    "    early_stopping_patience=5,\n",
    "    early_stopping_tolerance=0.0,\n",
    "    lr_scheduler_factor=0.1,\n",
    "    lr_scheduler_step='8,10,12'\n",
    ")\n",
    "\n",
    "print(img_classifier_model.hyperparameters())"
   ]
  },
  {
   "cell_type": "code",
   "execution_count": 12,
   "id": "17c6ea41-dac2-495f-8c03-6dd225d9aff6",
   "metadata": {},
   "outputs": [],
   "source": [
    "from sagemaker.tuner import CategoricalParameter, ContinuousParameter, HyperparameterTuner\n",
    "\n",
    "hyperparameter_ranges = {\n",
    "    \"learning_rate\":ContinuousParameter(0.01, 0.1),\n",
    "    \"mini_batch_size\": CategoricalParameter([8, 16, 32]),\n",
    "    \"optimizer\":CategoricalParameter([\"sgd\", 'adam']),\n",
    "}"
   ]
  },
  {
   "cell_type": "code",
   "execution_count": 13,
   "id": "22a516f3-bf9f-41f2-a5a0-623a722f3ca3",
   "metadata": {},
   "outputs": [],
   "source": [
    "objective_metric_name = 'validation:accuracy'\n",
    "objective_type = 'Maximize'\n",
    "max_jobs = 5\n",
    "max_parallel_jobs = 1"
   ]
  },
  {
   "cell_type": "code",
   "execution_count": 14,
   "id": "67865403-dec9-4556-9dea-0f1d701d31c0",
   "metadata": {},
   "outputs": [
    {
     "name": "stdout",
     "output_type": "stream",
     "text": [
      "<sagemaker.tuner.HyperparameterTuner object at 0x7fb1c065e110>\n"
     ]
    }
   ],
   "source": [
    "tuner = HyperparameterTuner(estimator=img_classifier_model,\n",
    "                           objective_metric_name=objective_metric_name,\n",
    "                           hyperparameter_ranges=hyperparameter_ranges,\n",
    "                           objective_type=objective_type,\n",
    "                           max_jobs=max_jobs,\n",
    "                           max_parallel_jobs=max_parallel_jobs,\n",
    "                           )\n",
    "print(tuner)"
   ]
  },
  {
   "cell_type": "code",
   "execution_count": 15,
   "id": "24a32a5f-a934-445b-97a2-940c37aa93aa",
   "metadata": {},
   "outputs": [
    {
     "name": "stdout",
     "output_type": "stream",
     "text": [
      "{'train': <sagemaker.inputs.TrainingInput object at 0x7fb1c0150350>, 'validation': <sagemaker.inputs.TrainingInput object at 0x7fb1c0150410>, 'train_lst': <sagemaker.inputs.TrainingInput object at 0x7fb1c01503d0>, 'validation_lst': <sagemaker.inputs.TrainingInput object at 0x7fb1c0150450>}\n"
     ]
    }
   ],
   "source": [
    "from sagemaker.session import TrainingInput\n",
    "\n",
    "model_inputs = {\n",
    "    \"train\":sagemaker.inputs.TrainingInput(s3_data=f's3://{bucket}/train/', content_type='application/x-image'),\n",
    "    \"validation\":sagemaker.inputs.TrainingInput(s3_data=f's3://{bucket}/test/', content_type='application/x-image'),\n",
    "    \"train_lst\":sagemaker.inputs.TrainingInput(s3_data=f's3://{bucket}/train.lst', content_type='application/x-image'),\n",
    "    \"validation_lst\":sagemaker.inputs.TrainingInput(s3_data=f's3://{bucket}/test.lst', content_type='application/x-image'),\n",
    "}\n",
    "\n",
    "print(model_inputs)"
   ]
  },
  {
   "cell_type": "code",
   "execution_count": null,
   "id": "662af917-4f32-48b3-bfed-bdd78a09edf9",
   "metadata": {},
   "outputs": [],
   "source": [
    "import time\n",
    "\n",
    "job_name_prefix = 'classifier'\n",
    "timestamp = time.strftime('-%Y-%m-%d-%H-%M-%S', time.gmtime())\n",
    "job_name = job_name_prefix + timestamp"
   ]
  },
  {
   "cell_type": "code",
   "execution_count": null,
   "id": "05e787e7-89e6-4995-b49d-d280ba637f1f",
   "metadata": {},
   "outputs": [],
   "source": [
    "tuner.fit(inputs=model_inputs,\n",
    "         job_name=job_name,\n",
    "         logs=True)"
   ]
  },
  {
   "cell_type": "code",
   "execution_count": 16,
   "id": "51e8e241-71bb-4188-b6e9-38e4c7f0d1d2",
   "metadata": {},
   "outputs": [],
   "source": [
    "import sagemaker\n",
    "from sagemaker import get_execution_role"
   ]
  },
  {
   "cell_type": "code",
   "execution_count": 17,
   "id": "d385edd8-28c9-4ffc-ad76-c55c721383d2",
   "metadata": {},
   "outputs": [],
   "source": [
    "role = get_execution_role()"
   ]
  },
  {
   "cell_type": "code",
   "execution_count": 19,
   "id": "36f46fc2-82a0-4996-9c0f-bd3fbece0820",
   "metadata": {},
   "outputs": [],
   "source": [
    "model = sagemaker.model.Model(\n",
    "image_uri=algorithm_image,\n",
    "model_data=\"classifier-2022-10-14-01-50-55-001-a97130b2/output/model.tar.gz\",\n",
    "role=role)"
   ]
  },
  {
   "cell_type": "code",
   "execution_count": 20,
   "id": "1b531b46-5889-4096-b109-07afdd3daccb",
   "metadata": {},
   "outputs": [
    {
     "name": "stdout",
     "output_type": "stream",
     "text": [
      "---------!"
     ]
    }
   ],
   "source": [
    "deployment=model.deploy(\n",
    "initial_instance_count=1,\n",
    "instance_type='ml.m4.xlarge',\n",
    "endpoint_name=endpoint_name\n",
    ")"
   ]
  },
  {
   "cell_type": "code",
   "execution_count": 21,
   "id": "d8e75f81-eb48-48c2-b7e2-82372f20a4d6",
   "metadata": {},
   "outputs": [],
   "source": [
    "from sagemaker.predictor import Predictor\n",
    "predictor = Predictor(endpoint_name)"
   ]
  },
  {
   "cell_type": "code",
   "execution_count": 22,
   "id": "5afa97aa-b11e-4903-882f-5446e7287f8a",
   "metadata": {},
   "outputs": [
    {
     "name": "stdout",
     "output_type": "stream",
     "text": [
      "b'[0.0014596829423680902, 0.9985402822494507]'\n"
     ]
    }
   ],
   "source": [
    "from sagemaker.serializers import IdentitySerializer\n",
    "import base64\n",
    "\n",
    "file_name = './data/chest_xray/val/val_pneumonia0.jpeg'\n",
    "\n",
    "predictor.serializer = IdentitySerializer('image/jpeg')\n",
    "with open(file_name, 'rb') as f:\n",
    "    payload = f.read()\n",
    "\n",
    "inference = predictor.predict(data=payload)\n",
    "print(inference)"
   ]
  },
  {
   "cell_type": "code",
   "execution_count": null,
   "id": "117058ca-b1f0-43af-9cd9-8acbce6f9e6b",
   "metadata": {},
   "outputs": [],
   "source": []
  }
 ],
 "metadata": {
  "instance_type": "ml.t3.medium",
  "kernelspec": {
   "display_name": "Python 3 (Data Science)",
   "language": "python",
   "name": "python3__SAGEMAKER_INTERNAL__arn:aws:sagemaker:us-east-1:081325390199:image/datascience-1.0"
  },
  "language_info": {
   "codemirror_mode": {
    "name": "ipython",
    "version": 3
   },
   "file_extension": ".py",
   "mimetype": "text/x-python",
   "name": "python",
   "nbconvert_exporter": "python",
   "pygments_lexer": "ipython3",
   "version": "3.7.10"
  }
 },
 "nbformat": 4,
 "nbformat_minor": 5
}
